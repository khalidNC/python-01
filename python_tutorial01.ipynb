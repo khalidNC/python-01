{
  "cells": [
    {
      "cell_type": "markdown",
      "metadata": {
        "colab_type": "text",
        "id": "view-in-github"
      },
      "source": [
        "<a href=\"https://colab.research.google.com/github/khalidNC/python-01/blob/main/Tutorial01.ipynb\" target=\"_parent\"><img src=\"https://colab.research.google.com/assets/colab-badge.svg\" alt=\"Open In Colab\"/></a>"
      ]
    },
    {
      "cell_type": "markdown",
      "metadata": {
        "id": "vC-gj2km-_uV"
      },
      "source": [
        "#**Python3**\n",
        "First code in python, print Hello World"
      ]
    },
    {
      "cell_type": "code",
      "execution_count": null,
      "metadata": {
        "colab": {
          "base_uri": "https://localhost:8080/"
        },
        "id": "iclX2r55n_Mv",
        "outputId": "8b7c9c27-6304-4c1c-937d-e78b2e79a101"
      },
      "outputs": [
        {
          "name": "stdout",
          "output_type": "stream",
          "text": [
            "Hello World!\n"
          ]
        }
      ],
      "source": [
        "print(\"Hello World!\")\n"
      ]
    },
    {
      "cell_type": "markdown",
      "metadata": {
        "id": "_So6Wu1A-0Tu"
      },
      "source": [
        "# **Variable:**\n",
        "When we save any type of data in our computer, we save with name. In programming language, variable has same concept.\n",
        "We need to store data by delcearing a variable name that save in computer memory space. Example:"
      ]
    },
    {
      "cell_type": "code",
      "execution_count": null,
      "metadata": {
        "colab": {
          "base_uri": "https://localhost:8080/"
        },
        "id": "pYJx0AUspXeI",
        "outputId": "545b7051-9bd7-4068-b3a1-90f70884714a"
      },
      "outputs": [
        {
          "name": "stdout",
          "output_type": "stream",
          "text": [
            "50\n",
            "Khalid Hussain House-23, Road-2\n",
            "Name: Khalid Hussain. \n",
            "Address: House-23, Road-2\n"
          ]
        }
      ],
      "source": [
        "a = 20\n",
        "b = 30\n",
        "c = a + b\n",
        "print(c)\n",
        "\n",
        "name = \"Khalid Hussain\"\n",
        "address = \"House-23, Road-2\"\n",
        "\n",
        "# Here we just simplly print name and address together\n",
        "print(name, address)\n",
        "\n",
        "# Here we formated the print as output. And the syntax is: f\"Text {variable}\"\n",
        "print(f\"Name: {name}. \\nAddress: {address}\")\n"
      ]
    },
    {
      "cell_type": "markdown",
      "metadata": {
        "id": "MF5Rgzv8_3oE"
      },
      "source": [
        "#**Data Types:**\n",
        "Any language has different type of compotants. Like when we talk sometimes we use alphabatical value and sometimes we use numerical value. Similarly in programming language we need use several types of data.\n",
        "Like;\n",
        "1. String\n",
        "2. Integer\n",
        "3. Float"
      ]
    },
    {
      "cell_type": "code",
      "execution_count": null,
      "metadata": {
        "colab": {
          "base_uri": "https://localhost:8080/",
          "height": 246
        },
        "id": "8-iHzuGF_2nU",
        "outputId": "88565f46-9dfc-4656-b805-3378a064581c"
      },
      "outputs": [
        {
          "name": "stdout",
          "output_type": "stream",
          "text": [
            "Enter a number: 40\n"
          ]
        },
        {
          "ename": "TypeError",
          "evalue": "ignored",
          "output_type": "error",
          "traceback": [
            "\u001b[0;31m---------------------------------------------------------------------------\u001b[0m",
            "\u001b[0;31mTypeError\u001b[0m                                 Traceback (most recent call last)",
            "\u001b[0;32m<ipython-input-5-4dfbccefc6e1>\u001b[0m in \u001b[0;36m<cell line: 5>\u001b[0;34m()\u001b[0m\n\u001b[1;32m      3\u001b[0m \u001b[0msecondNum\u001b[0m \u001b[0;34m=\u001b[0m \u001b[0minput\u001b[0m\u001b[0;34m(\u001b[0m\u001b[0;34m\"Enter a number: \"\u001b[0m\u001b[0;34m)\u001b[0m\u001b[0;34m\u001b[0m\u001b[0;34m\u001b[0m\u001b[0m\n\u001b[1;32m      4\u001b[0m \u001b[0;34m\u001b[0m\u001b[0m\n\u001b[0;32m----> 5\u001b[0;31m \u001b[0mtotal\u001b[0m \u001b[0;34m=\u001b[0m \u001b[0mfirstNum\u001b[0m \u001b[0;34m+\u001b[0m \u001b[0msecondNum\u001b[0m\u001b[0;34m\u001b[0m\u001b[0;34m\u001b[0m\u001b[0m\n\u001b[0m\u001b[1;32m      6\u001b[0m \u001b[0mprint\u001b[0m\u001b[0;34m(\u001b[0m\u001b[0mtotal\u001b[0m\u001b[0;34m)\u001b[0m\u001b[0;34m\u001b[0m\u001b[0;34m\u001b[0m\u001b[0m\n",
            "\u001b[0;31mTypeError\u001b[0m: unsupported operand type(s) for +: 'int' and 'str'"
          ]
        }
      ],
      "source": [
        "# Variable declearation and data input from user\n",
        "firstNum = 10\n",
        "secondNum = input(\"Enter a number: \")\n",
        "\n",
        "total = firstNum + secondNum\n",
        "print(total)"
      ]
    },
    {
      "cell_type": "markdown",
      "metadata": {
        "id": "v-3hEDzLGqz3"
      },
      "source": [
        "Here in the aboove example, we get data(a number) from keyboard and this data is taken as string by python, so when it trys to add it raise an error\n",
        "int + str not possible. It always have to have same type of data for calculations. So we need to convert the str to int. So we use int(), a built-in method."
      ]
    },
    {
      "cell_type": "code",
      "execution_count": null,
      "metadata": {
        "colab": {
          "base_uri": "https://localhost:8080/"
        },
        "id": "h-h52oILHd0q",
        "outputId": "e25bc9ca-b59a-4060-dbee-74fe9eef5b93"
      },
      "outputs": [
        {
          "name": "stdout",
          "output_type": "stream",
          "text": [
            "Enter a number: 70\n",
            "Sum: 80\n"
          ]
        }
      ],
      "source": [
        "# Variable declearation and data input from user\n",
        "firstNum = 10\n",
        "secondNum = int(input(\"Enter a number: \"))\n",
        "\n",
        "total = firstNum + secondNum\n",
        "print(\"Sum:\", total)"
      ]
    },
    {
      "cell_type": "markdown",
      "metadata": {
        "id": "FdHpO3stIRVd"
      },
      "source": [
        "#**Oparators:**\n",
        "3 types of operators:\n",
        "1. Arithmatic : +, -, /, *\n",
        "2. Comparator : <, >, =, ==, <=, >=,\n",
        "3. Logical : and, or, not"
      ]
    },
    {
      "cell_type": "code",
      "execution_count": null,
      "metadata": {
        "colab": {
          "base_uri": "https://localhost:8080/"
        },
        "id": "Uxei4ck-Is5a",
        "outputId": "296d7084-edce-402a-840a-d0892c9f5298"
      },
      "outputs": [
        {
          "name": "stdout",
          "output_type": "stream",
          "text": [
            "100\n"
          ]
        }
      ],
      "source": [
        "# Multiply 2 numbers\n",
        "a = 20\n",
        "b = 5\n",
        "ab = 20 * 5\n",
        "print(ab)"
      ]
    },
    {
      "cell_type": "markdown",
      "metadata": {
        "id": "N6J7JgBJKEcb"
      },
      "source": [
        "#**Conditional Statement:**\n",
        "We oflten use the conditinal statement in our daily usages for example,\n",
        "we say \"If the weather is very hot today I would not go outside.\"\n",
        "\n",
        "In programming, we use the conditional statement kind of in a same way, like when the result/decision depends on something to be happened.\n",
        "\n",
        "Let's take a look at the syntax of writing a conditional statement.\n",
        "\n",
        "Syntax:\n",
        "\n",
        "        if condition:\n",
        "           statement\n",
        "\n",
        "This mean if the condition is ture then execute the statement.\n",
        "\n",
        "\n",
        "\n",
        "\n"
      ]
    },
    {
      "cell_type": "code",
      "execution_count": null,
      "metadata": {
        "colab": {
          "base_uri": "https://localhost:8080/"
        },
        "id": "QFNP2JdMM-Uu",
        "outputId": "de6f852a-ff44-4051-f13a-228ad3d14e16"
      },
      "outputs": [
        {
          "name": "stdout",
          "output_type": "stream",
          "text": [
            "Please write your age here: 41\n",
            "The user is senior and the age is:, 41\n"
          ]
        }
      ],
      "source": [
        "# An example of conditional statement:\n",
        "# Let's say we will take info from users age, if age below 30 will be considered as junior else sinior.\n",
        "# So first, we will declear a variable 'age' and use input() method to take info\n",
        "# We knaow input() returns 'str', so we convert the date to 'int' since we are comparing with integer.\n",
        "# Then if condition: if the age lesser or equal to 30 print junior else: print senior\n",
        "\n",
        "age = input(\"Please write your age here: \")\n",
        "\n",
        "if int(age) <= 30:\n",
        "  print(f\"The user is junior and the age is: {age}\")\n",
        "else:\n",
        "  print(f\"The user is senior and the age is:, {age}\")"
      ]
    },
    {
      "cell_type": "markdown",
      "metadata": {
        "id": "0_o9-h3rRCcb"
      },
      "source": [
        "#**Loop:**\n",
        "When you want to do same task repeatedly then loop comes in to the picture. For example, if you want to pirnt 0 1 2 3 4 ... let's sy up to 9 so either you can print them separately one by one or you can use loop.\n",
        "\n",
        "There are verious type of loops in programming among them for loop and while loop are widely used.\n"
      ]
    },
    {
      "cell_type": "markdown",
      "metadata": {
        "id": "4nRQ7sTy5la7"
      },
      "source": [
        "### **For Loop:**\n",
        "Let's print a range of numbers by using for loop.\n",
        "\n",
        "For Loop Syntax:\n",
        "\n",
        "               for i in iterable:\n",
        "                  execute statement like print()\n",
        "\n",
        "i is the variable in iterable items(could be list, dictionary, tuple etc). It represents a item and for every item the loop executes the statement."
      ]
    },
    {
      "cell_type": "code",
      "execution_count": null,
      "metadata": {
        "colab": {
          "base_uri": "https://localhost:8080/"
        },
        "id": "v06EYG-fedud",
        "outputId": "363dc5c3-ee66-402d-9e7e-26fee9b8bbda"
      },
      "outputs": [
        {
          "name": "stdout",
          "output_type": "stream",
          "text": [
            "1\n",
            "2\n",
            "3\n",
            "4\n",
            "5\n",
            "6\n",
            "5050\n"
          ]
        }
      ],
      "source": [
        "# Let's have a range of number like, 1 to 6 and store in a variable called numbers\n",
        "# Then iterate the range by using for loop\n",
        "# Execute statement: as print() the each elements in the range. Or we can say the value of i changes every time\n",
        "\n",
        "numbers = range(1, 7)\n",
        "\n",
        "for i in numbers:\n",
        "  print(i)\n",
        "\n",
        "\n",
        "# Another example of for loop. We will calculate the sumation of a series 1 to 100\n",
        "# We have a range of numbers 1 to 100. So we set the range and store in a variable called 'numbers'.\n",
        "# Then let's declear a variable 'sum' and assign a initial value 0 zero.\n",
        "# Then iterate numbers and execute the addition of the numbers(mean sum, which initially 0 + the item i in each iteration) then print the sum\n",
        "\n",
        "numbers = range(1, 101) # Since last number is exclueded by default so we set the range by 101\n",
        "sum = 0\n",
        "\n",
        "for i in numbers:\n",
        "  sum = sum + i\n",
        "print(sum)"
      ]
    },
    {
      "cell_type": "code",
      "execution_count": null,
      "metadata": {
        "colab": {
          "base_uri": "https://localhost:8080/"
        },
        "id": "PvqC6gf4z0VQ",
        "outputId": "8daf1bcd-8c10-414f-f2ea-98a6d4ca2e17"
      },
      "outputs": [
        {
          "name": "stdout",
          "output_type": "stream",
          "text": [
            "2500\n",
            "5000\n",
            "7500\n"
          ]
        }
      ],
      "source": [
        "# Let's take look at another example of for loop\n",
        "# Here we want to sum only the odd number like 1 + 3 + 5 .... + 100 = ?\n",
        "# We can solve this in 2 ways. i)Using conditional statement and comparator oparator inside loop ii)Using skip option in range method\n",
        "\n",
        "# Using conditional statement: If i is a even number then loop continue\n",
        "# So the condition is, if i%2 == 0 then continue else: sum = sum + i\n",
        "\n",
        "numbers = range(1, 101)\n",
        "sum = 0\n",
        "\n",
        "for i in numbers:\n",
        "  if i%2 == 0:\n",
        "    continue\n",
        "  else:\n",
        "    sum = sum + i\n",
        "print(sum)\n",
        "\n",
        "# Another condition could be, if i is not equal to odd then it is even and just sum it\n",
        "\n",
        "for i in numbers:\n",
        "  if i%2 != 0:\n",
        "    sum = sum + i\n",
        "print(sum)\n",
        "\n",
        "\n",
        "# Another way is to solve this, skip the item in the range by 2. Means 1 then skip 2 so count 3 then again skip 2 so it 5 and so on\n",
        "# The syntax of skipping is rang(1, 20, 2) the last number 2 is the skip argument that represents the skipping ontion.\n",
        "\n",
        "odd_numbers = range(1, 101, 2)\n",
        "\n",
        "for i in odd_numbers:\n",
        "  sum = sum + i\n",
        "\n",
        "print(sum)"
      ]
    },
    {
      "cell_type": "markdown",
      "metadata": {
        "id": "JPZXZYKU5_H5"
      },
      "source": [
        "### **While Loop:**\n",
        "We can do the same fixes as above by using while loop.\n",
        "\n",
        "While loop syntax:\n",
        "\n",
        "                  while condition:\n",
        "                        statement\n",
        "                  print()\n",
        "\n",
        "Which mean, untill the condition is ture the loop continues executing the statement.\n",
        "\n",
        "So we need here,\n",
        "1) an iterable onjetc like list, range, dict, etc\n",
        "2) a variable that represent an item in the iterable\n",
        "3) executable staement\n"
      ]
    },
    {
      "cell_type": "code",
      "execution_count": null,
      "metadata": {
        "colab": {
          "base_uri": "https://localhost:8080/"
        },
        "id": "6VHXwFqG7IQQ",
        "outputId": "da237915-45e8-4ec1-9648-7c8f61daf991"
      },
      "outputs": [
        {
          "name": "stdout",
          "output_type": "stream",
          "text": [
            "2550\n"
          ]
        }
      ],
      "source": [
        "# Let's sovle a similar type of proble as above by using while loop\n",
        "# This time we will sum all even numbers between 1 to 100\n",
        "# This time we will declear a variable i that represents all the items in between 1-100. And set i equal 0 initially\n",
        "# Declear a variable 'sum' and set initial value 0\n",
        "# Then use while loop condition: check untill i < 101 keep sum up\n",
        "# But we want to sum only the even numbers the difference is 2, so i should set inside the loop i=i+2\n",
        "# and finally print the sum\n",
        "\n",
        "i = 0\n",
        "sum = 0\n",
        "\n",
        "while i < 101:\n",
        "  # sum = sum + i\n",
        "  sum += i\n",
        "  # i = i + 2\n",
        "  i += 2\n",
        "print(sum)\n",
        "\n",
        "# Now, python has a better/shortcut way to write the above executale statements\n",
        "# Like, sum + i and += i does exactly the same function\n",
        "# we can write the code like this way as well, sum += i and i += 2\n"
      ]
    },
    {
      "cell_type": "markdown",
      "metadata": {
        "id": "0MD30RTgGaB_"
      },
      "source": [
        "**Accessing list/array with loop:**"
      ]
    },
    {
      "cell_type": "code",
      "execution_count": null,
      "metadata": {
        "colab": {
          "base_uri": "https://localhost:8080/"
        },
        "id": "QKvqspb6Gpcs",
        "outputId": "72ea4779-b8a2-49fc-d8fa-8b574f313a58"
      },
      "outputs": [
        {
          "name": "stdout",
          "output_type": "stream",
          "text": [
            "banana\n",
            "mango\n",
            "apple\n",
            "banana\n",
            "orange\n",
            "2\n",
            "4\n",
            "7\n"
          ]
        }
      ],
      "source": [
        "# We can access a array with the help of loop.\n",
        "# Let's say we have list of fruits\n",
        "\n",
        "fruits = [\"mango\", \"apple\", \"banana\", \"orange\", 2, 4, 7]\n",
        "# index of the list items are [0], [1], [2], [3], [4], [5], [6]\n",
        "\n",
        "# So one way to access of the list item could be accessing by it's index.\n",
        "# Example: I can print number 2 positional index. And this will return 'banana'\n",
        "print(fruits[2])\n",
        "\n",
        "# Let's say the list has tons of items ion that case what should we do, shall we print them individually?\n",
        "# Answer is 'no'. We will use loop to print them.\n",
        "# To do so, we will crear a variable called let's fruit that represents all the fruits items in the fruits list\n",
        "# Then we will iterate over the list the syntax is, for item in iterable: then executable statement\n",
        "\n",
        "for fruit in fruits:\n",
        "  print(fruit)\n"
      ]
    },
    {
      "cell_type": "markdown",
      "metadata": {
        "id": "Y3aX9BmyKT1x"
      },
      "source": [
        "#**Methods:**\n",
        "In general words, when you slicing down a big task into small parts and perform the small tasks and finally by the outcome of those small you acomplish the full taks. The small tasks that eventually help you to complete the mani task are called methods or functions. There are a tons of built-in function in python library those are called methods. And the custom made fuction that you create for your codes are called functions.\n",
        "\n",
        "Example of a method is, print()\n",
        "This method takes string argument and returns you what you want to print in your terminal. Like you want to print \"I love my country\" so use print(\"I love my country\") this will return this text \"I love my country\" in your terminal.\n",
        "\n",
        "We can also write custom function as well for our code. There is a syntax of writing function.\n",
        "1. First we need to define a function with 'def' block\n",
        "2. Then we need to give a name of the function like variable.\n",
        "3. Function name should be meaningful, lowercase and words separated by underscore.\n",
        "4. Then a parenthesis and end with colons.\n",
        "5. Then it makes a auto endentation that means the following statements are belong to the function.\n",
        "6. Now the function is created and we need to call it as we call the built-in function.\n",
        "7. We need to remove the indentation and add 2 lines break after the function. And call the function.\n",
        "\n",
        "       def name_of_function():\n",
        "           print(\"Text\") [The statement that belongs to function]\n",
        "\n",
        "       name_of_the_function()\n",
        "\n",
        "**Usefulness:** If we do not create/use function and write the whole codes together then later on if there is any issue raise then we need to check whole codes. But if we create/use function then it comes easy to refactor/fix.\n"
      ]
    },
    {
      "cell_type": "code",
      "execution_count": null,
      "metadata": {
        "colab": {
          "base_uri": "https://localhost:8080/"
        },
        "id": "qk9jyxsezmnm",
        "outputId": "0b470050-7207-44f0-8b8e-a408e4f71577"
      },
      "outputs": [],
      "source": [
        "# We are writing custom functions to claculate 2 numbers\n",
        "\n",
        "# Define a function with 'def'\n",
        "# Declear a name; 'sum_two_numbers'\n",
        "# By convention give parenthesis and end with':'\n",
        "# Then executable statement; that function adds 2 numbers(a and b variables represent the numebrs) and return the summation.\n",
        "# Then supply a and b with comma separated inside the parenthesis these are called parameter.\n",
        "# Now call the function like, sum_two_number(2, 9). So we provide actual numbers here in parenthesis and these are called arguments.\n",
        "# Then store this in a variable let's say 'sum_results'.\n",
        "# Then print the sum_results\n",
        "def sum_two_numbers(a, b):\n",
        "  return a + b\n",
        "\n",
        "sum_results = sum_two_numbers(2, 9)\n",
        "print(sum_results)"
      ]
    }
  ],
  "metadata": {
    "colab": {
      "authorship_tag": "ABX9TyOazJDFLbDyEFiA7hBJXfyB",
      "include_colab_link": true,
      "provenance": []
    },
    "kernelspec": {
      "display_name": "Python 3",
      "name": "python3"
    },
    "language_info": {
      "name": "python"
    }
  },
  "nbformat": 4,
  "nbformat_minor": 0
}
